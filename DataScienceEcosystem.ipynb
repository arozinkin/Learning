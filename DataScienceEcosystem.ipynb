{
 "cells": [
  {
   "cell_type": "markdown",
   "id": "61668b12-937d-47ff-9ef8-b219467c4ded",
   "metadata": {
    "tags": []
   },
   "source": [
    "# Data Science Tools and Ecosystem"
   ]
  },
  {
   "cell_type": "markdown",
   "id": "29a3495a-2c42-4866-9f6f-9a5176dae410",
   "metadata": {},
   "source": [
    "In this notebook, Data Science Tools and Ecosystem are summarized."
   ]
  },
  {
   "cell_type": "markdown",
   "id": "d4fba37d-3fab-4dda-9e62-842e97860eb5",
   "metadata": {},
   "source": [
    "Some of the popular languages that Data Scientists use are:\n",
    "1. Python\n",
    "2. R\n",
    "3. SQL\n",
    "4. Scala\n",
    "5. Julia\n",
    "6. C++"
   ]
  },
  {
   "cell_type": "markdown",
   "id": "c18b2b31-ba6e-4c15-968b-5070758f10cd",
   "metadata": {},
   "source": [
    "Some of the commonly used libraries used by Data Scientists include:\n",
    "1. Pandas\n",
    "2. NumPy\n",
    "3. SciPy\n",
    "4. Matplotlib\n",
    "5. TensorFlow\n",
    "6. Keras\n"
   ]
  },
  {
   "cell_type": "markdown",
   "id": "3a250c09-c570-48f6-8b44-4b4626d3c76b",
   "metadata": {},
   "source": [
    "| Data Science Tools |\n",
    "|------|\n",
    "|   GoogleColab   |\n",
    "|   JupyterLab  |\n",
    "|   JupyterLite   |"
   ]
  },
  {
   "cell_type": "markdown",
   "id": "56e3e2db-01a1-4b77-93ac-48bf6253bd53",
   "metadata": {},
   "source": [
    "Below are a few examples of evaluating arithmetic expressions in Python"
   ]
  },
  {
   "cell_type": "code",
   "execution_count": 4,
   "id": "d9839c29-df6b-464c-a2e8-9fe1e98497c8",
   "metadata": {
    "tags": []
   },
   "outputs": [
    {
     "data": {
      "text/plain": [
       "17"
      ]
     },
     "execution_count": 4,
     "metadata": {},
     "output_type": "execute_result"
    }
   ],
   "source": [
    "#This a simple arithmetic expression to mutiply then add integers\n",
    "(3*4)+5"
   ]
  },
  {
   "cell_type": "code",
   "execution_count": 5,
   "id": "ef1ad2ff-ec36-4107-a660-067cb539a731",
   "metadata": {
    "tags": []
   },
   "outputs": [
    {
     "data": {
      "text/plain": [
       "3.3333333333333335"
      ]
     },
     "execution_count": 5,
     "metadata": {},
     "output_type": "execute_result"
    }
   ],
   "source": [
    "#This will convert 200 minutes to hours by diving by 60\n",
    "200 / 60"
   ]
  },
  {
   "cell_type": "markdown",
   "id": "68bebdb8-b747-422f-b8dc-56ab47200357",
   "metadata": {},
   "source": [
    "__Objectives:__\n",
    " - Create a Jupyter Notebook\n",
    " - Create markdown cells\n",
    " - List Data Science languages\n",
    " - List Data Science libraries\n",
    " - List Data Science tools"
   ]
  },
  {
   "cell_type": "markdown",
   "id": "b5333b62-00ae-4b41-b29a-bafc96ab2cbe",
   "metadata": {},
   "source": [
    "## Author\n",
    "Andrey Rozinkin"
   ]
  }
 ],
 "metadata": {
  "kernelspec": {
   "display_name": "Python 3 (ipykernel)",
   "language": "python",
   "name": "python3"
  },
  "language_info": {
   "codemirror_mode": {
    "name": "ipython",
    "version": 3
   },
   "file_extension": ".py",
   "mimetype": "text/x-python",
   "name": "python",
   "nbconvert_exporter": "python",
   "pygments_lexer": "ipython3",
   "version": "3.11.5"
  }
 },
 "nbformat": 4,
 "nbformat_minor": 5
}
